{
 "cells": [
  {
   "metadata": {},
   "cell_type": "markdown",
   "source": [
    "# Copled Oscillators\n",
    "\n"
   ],
   "id": "9e08f9947e6dedbc"
  },
  {
   "cell_type": "code",
   "id": "initial_id",
   "metadata": {
    "collapsed": true,
    "ExecuteTime": {
     "end_time": "2024-10-20T15:10:52.019871Z",
     "start_time": "2024-10-20T15:10:51.376500Z"
    }
   },
   "source": [
    "import numpy as np\n",
    "from fontTools.ttLib.woff2 import bboxFormat\n",
    "from numpy import genfromtxt\n",
    "import pandas as pd\n",
    "from IPython.display import display, Markdown, Latex\n",
    "\n",
    "df = pd.read_csv('./data/springConstant.csv')\n",
    "df['m'].mean()"
   ],
   "outputs": [
    {
     "data": {
      "text/plain": [
       "126.5"
      ]
     },
     "execution_count": 3,
     "metadata": {},
     "output_type": "execute_result"
    }
   ],
   "execution_count": 3
  },
  {
   "metadata": {},
   "cell_type": "markdown",
   "source": [
    "## Qualitative Observations\n",
    "### Case I: Both Oscillators are Released from Rest with Same Initial Displacement\n",
    "\n",
    "TODO: Add Observations\n",
    "### Case II: Both Oscillators are Released from Rest with Opposit Initial Displacement\n",
    "\n",
    "ToDO: Add Observations\n",
    "### Case III: One Oscillator is Released from Rest and the Other is at Rest at initial Position\n",
    "\n",
    "TODO: Add Observations"
   ],
   "id": "563f9217fb2e0137"
  },
  {
   "metadata": {
    "ExecuteTime": {
     "end_time": "2024-10-20T15:11:09.906137Z",
     "start_time": "2024-10-20T15:11:09.481045Z"
    }
   },
   "cell_type": "code",
   "source": [
    "df = pd.read_csv('./data/oscilationFrequencies.csv')\n",
    "\n",
    "def omega(T):\n",
    "    return 2*np.pi/T\n",
    "\n",
    "\n",
    "def errOmega(T, dT): #ToDO: Implement Error Propagation\n",
    "    return 0\n",
    "\n",
    "T1 = df['T1'].mean()\n",
    "T2 = df['T2'].mean()\n",
    "TBar = df['TBar'].mean()\n",
    "\n",
    "stat_eT1 = df['T1'].std()\n",
    "stat_eT2 = df['T2'].std()\n",
    "stat_eTBar = df['TBar'].std()\n",
    "\n",
    "omega1 = omega(T1)\n",
    "omega2 = omega(T2)\n",
    "omegaBar = omega(TBar)\n",
    "\n",
    "with open('./LaTeX_src/data/oscilationFrequencies.tex', 'w') as f:\n",
    "    f.write(df.to_latex())"
   ],
   "id": "619aba18ebac0b58",
   "outputs": [],
   "execution_count": 5
  },
  {
   "metadata": {},
   "cell_type": "markdown",
   "source": "## Quantitative Messurement of the Oscillation Frequency\n",
   "id": "ff031919845d48a9"
  },
  {
   "metadata": {},
   "cell_type": "markdown",
   "source": "",
   "id": "ab0d9c2989965a51"
  },
  {
   "metadata": {},
   "cell_type": "code",
   "outputs": [],
   "execution_count": null,
   "source": "",
   "id": "5b4dbb2d32476463"
  }
 ],
 "metadata": {
  "kernelspec": {
   "display_name": "Python 3",
   "language": "python",
   "name": "python3"
  },
  "language_info": {
   "codemirror_mode": {
    "name": "ipython",
    "version": 2
   },
   "file_extension": ".py",
   "mimetype": "text/x-python",
   "name": "python",
   "nbconvert_exporter": "python",
   "pygments_lexer": "ipython2",
   "version": "2.7.6"
  }
 },
 "nbformat": 4,
 "nbformat_minor": 5
}
